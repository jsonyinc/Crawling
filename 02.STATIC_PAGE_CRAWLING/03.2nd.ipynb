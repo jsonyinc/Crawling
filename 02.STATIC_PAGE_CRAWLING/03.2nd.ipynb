{
 "cells": [
  {
   "cell_type": "code",
   "execution_count": null,
   "metadata": {},
   "outputs": [],
   "source": [
    "import requests\n",
    "from bs4 import BeautifulSoup\n",
    "\n",
    "response = requests.get(\"https://startcoding.pythonanywhere.com/basic\") \n",
    "html = response.text\n",
    "soup = BeautifulSoup(html, 'html.parser')\n",
    "items = soup.select('.product')\n",
    "\n",
    "for item in items:\n",
    "    category = item.select_one('.product-category').text\n",
    "    name = item.select_one('.product-name').text\n",
    "    link = item.select_one('.product-name > a').attrs['href']\n",
    "    price = item.select_one('.product-price').text.split('원')[0].replace(',', '')\n",
    "    print(category, name, link, price)"
   ]
  },
  {
   "cell_type": "code",
   "execution_count": null,
   "metadata": {},
   "outputs": [],
   "source": []
  },
  {
   "cell_type": "code",
   "execution_count": null,
   "metadata": {},
   "outputs": [],
   "source": []
  }
 ],
 "metadata": {
  "kernelspec": {
   "display_name": "venv",
   "language": "python",
   "name": "python3"
  },
  "language_info": {
   "codemirror_mode": {
    "name": "ipython",
    "version": 3
   },
   "file_extension": ".py",
   "mimetype": "text/x-python",
   "name": "python",
   "nbconvert_exporter": "python",
   "pygments_lexer": "ipython3",
   "version": "3.13.2"
  }
 },
 "nbformat": 4,
 "nbformat_minor": 2
}
